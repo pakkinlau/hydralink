{
 "cells": [
  {
   "cell_type": "code",
   "execution_count": 6,
   "id": "1dae8251",
   "metadata": {},
   "outputs": [
    {
     "name": "stdout",
     "output_type": "stream",
     "text": [
      "Passive→active rewrite\n",
      "Alias tier=-1\n",
      "Fine predicate: founded_by\n",
      "▶ resolving 'founded_by'\n",
      "Dict-A hit (seed) → founded_by\n",
      "Abstract type (Dict-A) = founded_by\n",
      "-- Edge accepted\n",
      "Alias tier=-1\n",
      "Fine predicate: acquired_by\n",
      "▶ resolving 'acquired_by'\n",
      "Dict-A hit (seed) → acquired_by\n",
      "Abstract type (Dict-A) = acquired_by\n",
      "-- Edge accepted\n",
      "Alias tier=-1\n",
      "Fine predicate: located_in\n",
      "▶ resolving 'located_in'\n",
      "Dict-A hit (seed) → located_in\n",
      "Abstract type (Dict-A) = located_in\n",
      "-- Edge accepted\n",
      "\n",
      "3 edges extracted ✔️\n",
      "Edge counts: {'founded_by': 1, 'acquired_by': 1, 'located_in': 1}\n",
      "Alias-tier counts: {}\n"
     ]
    }
   ],
   "source": [
    "# ------- ONE-TIME HOT-RELOAD (run after editing files) -------------\n",
    "import importlib\n",
    "\n",
    "# reload service with new 3-arg resolve_predicate\n",
    "import deps.edge_type_service as ets\n",
    "importlib.reload(ets)\n",
    "\n",
    "# reload extractor so it re-imports the updated service\n",
    "import extractors.edge_extractor as ee\n",
    "importlib.reload(ee)\n",
    "\n",
    "# ------- CONFIG ----------------------------------------------------\n",
    "ee.EXPECTED_ABSTRACTS[:] = [\"located_in\", \"founded_by\", \"acquired_by\"]\n",
    "\n",
    "sentences = [\n",
    "    \"Zest Airways was founded by Alfredo Yao in Manila.\",\n",
    "    \"Google acquired YouTube for $1.65 billion in 2006.\",\n",
    "    \"AirAsia Zest is located in Manila.\"\n",
    "]\n",
    "\n",
    "# ------- EXTRACTION + LIVE TRACE -----------------------------------\n",
    "edges = [edge for s in sentences if (edge := ee.extract_edge(s, verbose=True))]\n",
    "\n",
    "print(f\"\\n{len(edges)} edges extracted ✔️\")\n",
    "print(\"Edge counts:\", dict(ee.EDGE_COUNTS))\n",
    "print(\"Alias-tier counts:\", dict(ee.ALIAS_TIER_COUNTS))\n",
    "\n"
   ]
  },
  {
   "cell_type": "code",
   "execution_count": 3,
   "id": "22a21923",
   "metadata": {},
   "outputs": [
    {
     "name": "stdout",
     "output_type": "stream",
     "text": [
      "\n",
      "Sentence 'Zest Airways, founded by Alfredo Yao, is located in Manila and was acquired by AirAsia.'\n",
      "Passive→active rewrite\n",
      "Alias tier=-1\n",
      "-- produced 0 edge(s)\n",
      "\n",
      "\n",
      "Sentence 'In 2006 Google acquired YouTube for $1.65 billion.'\n",
      "Alias tier=-1\n",
      "-- produced 0 edge(s)\n",
      "\n",
      "Doc-level graph has 0 edges\n"
     ]
    }
   ],
   "source": [
    "import importlib, extractors.triple_extractor as te\n",
    "importlib.reload(te)\n",
    "import importlib, extractors.edge_extractor as ee\n",
    "importlib.reload(ee)\n",
    "\n",
    "from deps.graph_store import GraphStore\n",
    "import extractors.edge_extractor as ee\n",
    "\n",
    "ee.EXPECTED_ABSTRACTS[:] = [\"located_in\", \"founded_by\", \"acquired_by\"]\n",
    "\n",
    "doc_id = \"docA\"\n",
    "sentences = [\n",
    "    \"Zest Airways, founded by Alfredo Yao, is located in Manila and was acquired by AirAsia.\",\n",
    "    \"In 2006 Google acquired YouTube for $1.65 billion.\"\n",
    "]\n",
    "\n",
    "store = GraphStore()\n",
    "for i, s in enumerate(sentences):\n",
    "    store.add_sentence(doc_id, i, s,\n",
    "                       extract_fn=ee.extract_sentence_graph,\n",
    "                       verbose=True)\n",
    "\n",
    "print(\"Doc-level graph has\", len(store.get_doc_graph(doc_id)), \"edges\")\n"
   ]
  },
  {
   "cell_type": "code",
   "execution_count": 7,
   "id": "6eac756e",
   "metadata": {},
   "outputs": [
    {
     "data": {
      "text/html": [
       "<div>\n",
       "<style scoped>\n",
       "    .dataframe tbody tr th:only-of-type {\n",
       "        vertical-align: middle;\n",
       "    }\n",
       "\n",
       "    .dataframe tbody tr th {\n",
       "        vertical-align: top;\n",
       "    }\n",
       "\n",
       "    .dataframe thead th {\n",
       "        text-align: right;\n",
       "    }\n",
       "</style>\n",
       "<table border=\"1\" class=\"dataframe\">\n",
       "  <thead>\n",
       "    <tr style=\"text-align: right;\">\n",
       "      <th></th>\n",
       "      <th>edge_type</th>\n",
       "      <th>fine_pred</th>\n",
       "      <th>eid</th>\n",
       "      <th>tier</th>\n",
       "      <th>cos</th>\n",
       "    </tr>\n",
       "  </thead>\n",
       "  <tbody>\n",
       "    <tr>\n",
       "      <th>0</th>\n",
       "      <td>founded_by</td>\n",
       "      <td>founded_by</td>\n",
       "      <td>None</td>\n",
       "      <td>-1</td>\n",
       "      <td>0.011447</td>\n",
       "    </tr>\n",
       "    <tr>\n",
       "      <th>1</th>\n",
       "      <td>acquired_by</td>\n",
       "      <td>acquired_by</td>\n",
       "      <td>None</td>\n",
       "      <td>-1</td>\n",
       "      <td>0.007623</td>\n",
       "    </tr>\n",
       "    <tr>\n",
       "      <th>2</th>\n",
       "      <td>located_in</td>\n",
       "      <td>located_in</td>\n",
       "      <td>None</td>\n",
       "      <td>-1</td>\n",
       "      <td>0.012107</td>\n",
       "    </tr>\n",
       "  </tbody>\n",
       "</table>\n",
       "</div>"
      ],
      "text/plain": [
       "     edge_type    fine_pred   eid  tier       cos\n",
       "0   founded_by   founded_by  None    -1  0.011447\n",
       "1  acquired_by  acquired_by  None    -1  0.007623\n",
       "2   located_in   located_in  None    -1  0.012107"
      ]
     },
     "execution_count": 7,
     "metadata": {},
     "output_type": "execute_result"
    }
   ],
   "source": [
    "# ------------- Cell 2 -------------\n",
    "import pandas as pd, numpy as np\n",
    "df = pd.DataFrame([{\n",
    "        \"edge_type\": e[\"edge_type\"],\n",
    "        \"fine_pred\": e[\"meta\"][\"fine_pred\"],\n",
    "        \"eid\":       e[\"meta\"][\"eid\"],\n",
    "        \"tier\":      e[\"meta\"][\"alias_tier\"],\n",
    "        \"cos\":       float(e[\"surface\"] @ e[\"semantic\"]) /\n",
    "                     (np.linalg.norm(e[\"surface\"])*np.linalg.norm(e[\"semantic\"]) + 1e-8)\n",
    "    } for e in edges])\n",
    "df\n"
   ]
  }
 ],
 "metadata": {
  "kernelspec": {
   "display_name": "Python 3",
   "language": "python",
   "name": "python3"
  },
  "language_info": {
   "codemirror_mode": {
    "name": "ipython",
    "version": 3
   },
   "file_extension": ".py",
   "mimetype": "text/x-python",
   "name": "python",
   "nbconvert_exporter": "python",
   "pygments_lexer": "ipython3",
   "version": "3.12.9"
  }
 },
 "nbformat": 4,
 "nbformat_minor": 5
}
