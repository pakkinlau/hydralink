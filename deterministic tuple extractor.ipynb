{
 "cells": [
  {
   "cell_type": "markdown",
   "id": "ba7a019e",
   "metadata": {},
   "source": [
    "Version: 30 Jun 2025\n",
    "\n",
    "- https://chatgpt.com/share/6861665a-dc88-800e-a67d-44022cecaabe"
   ]
  },
  {
   "cell_type": "code",
   "execution_count": 14,
   "id": "c8befd85",
   "metadata": {},
   "outputs": [
    {
     "data": {
      "text/plain": [
       "['I',\n",
       " 'saw',\n",
       " 'a',\n",
       " 'white',\n",
       " 'dog',\n",
       " 'chase',\n",
       " 'the',\n",
       " 'brown',\n",
       " 'cat',\n",
       " 'quickly',\n",
       " 'in',\n",
       " 'the',\n",
       " 'backyard',\n",
       " '.']"
      ]
     },
     "execution_count": 14,
     "metadata": {},
     "output_type": "execute_result"
    }
   ],
   "source": [
    "import spacy\n",
    "\n",
    "# Load spaCy's English model\n",
    "nlp = spacy.load(\"en_core_web_sm\")\n",
    "\n",
    "# Function to tokenize the input text\n",
    "def tokenize_text(text):\n",
    "    doc = nlp(text)\n",
    "    tokens = [token.text for token in doc]\n",
    "    return tokens\n",
    "\n",
    "# Example input text\n",
    "TEXT = \"I saw a white dog chase the brown cat quickly in the backyard.\"\n",
    "tokens = tokenize_text(TEXT)\n",
    "\n",
    "# Display tokens\n",
    "tokens\n"
   ]
  },
  {
   "cell_type": "code",
   "execution_count": 15,
   "id": "ed1279f7",
   "metadata": {},
   "outputs": [
    {
     "data": {
      "text/plain": [
       "[('I', 'PRON'),\n",
       " ('saw', 'VERB'),\n",
       " ('a', 'DET'),\n",
       " ('white', 'ADJ'),\n",
       " ('dog', 'NOUN'),\n",
       " ('chase', 'NOUN'),\n",
       " ('the', 'DET'),\n",
       " ('brown', 'ADJ'),\n",
       " ('cat', 'NOUN'),\n",
       " ('quickly', 'ADV'),\n",
       " ('in', 'ADP'),\n",
       " ('the', 'DET'),\n",
       " ('backyard', 'NOUN'),\n",
       " ('.', 'PUNCT')]"
      ]
     },
     "execution_count": 15,
     "metadata": {},
     "output_type": "execute_result"
    }
   ],
   "source": [
    "# Function to perform POS tagging\n",
    "def pos_tagging(tokens):\n",
    "    doc = nlp(\" \".join(tokens))\n",
    "    pos_tags = [(token.text, token.pos_) for token in doc]\n",
    "    return pos_tags\n",
    "\n",
    "# Perform POS tagging on the tokens\n",
    "pos_tags = pos_tagging(tokens)\n",
    "\n",
    "# Display POS tags\n",
    "pos_tags\n"
   ]
  },
  {
   "cell_type": "code",
   "execution_count": 23,
   "id": "92b4ed42",
   "metadata": {},
   "outputs": [
    {
     "ename": "AttributeError",
     "evalue": "NEAREST_EXACT",
     "output_type": "error",
     "traceback": [
      "\u001b[1;31m---------------------------------------------------------------------------\u001b[0m",
      "\u001b[1;31mAttributeError\u001b[0m                            Traceback (most recent call last)",
      "Cell \u001b[1;32mIn[23], line 1\u001b[0m\n\u001b[1;32m----> 1\u001b[0m \u001b[38;5;28;01mfrom\u001b[39;00m\u001b[38;5;250m \u001b[39m\u001b[38;5;21;01mtransformers\u001b[39;00m\u001b[38;5;21;01m.\u001b[39;00m\u001b[38;5;21;01mpipelines\u001b[39;00m\u001b[38;5;250m \u001b[39m\u001b[38;5;28;01mimport\u001b[39;00m pipeline\n\u001b[0;32m      3\u001b[0m \u001b[38;5;66;03m# Initialize the Hugging Face pipeline for Semantic Role Labeling (SRL)\u001b[39;00m\n\u001b[0;32m      4\u001b[0m srl_pipeline \u001b[38;5;241m=\u001b[39m pipeline(\u001b[38;5;124m\"\u001b[39m\u001b[38;5;124mzero-shot-classification\u001b[39m\u001b[38;5;124m\"\u001b[39m, model\u001b[38;5;241m=\u001b[39m\u001b[38;5;124m\"\u001b[39m\u001b[38;5;124mfacebook/bart-large-mnli\u001b[39m\u001b[38;5;124m\"\u001b[39m)\n",
      "File \u001b[1;32mc:\\Documents\\All_github_repo\\PKB1\\4. Projects (Non-repeatable that build from 3.x)\\@Hydra-link (EMNLP2025 submission)\\lab\\venv\\lib\\site-packages\\transformers\\pipelines\\__init__.py:26\u001b[0m\n\u001b[0;32m     24\u001b[0m \u001b[38;5;28;01mfrom\u001b[39;00m\u001b[38;5;250m \u001b[39m\u001b[38;5;21;01m.\u001b[39;00m\u001b[38;5;21;01m.\u001b[39;00m\u001b[38;5;21;01mdynamic_module_utils\u001b[39;00m\u001b[38;5;250m \u001b[39m\u001b[38;5;28;01mimport\u001b[39;00m get_class_from_dynamic_module\n\u001b[0;32m     25\u001b[0m \u001b[38;5;28;01mfrom\u001b[39;00m\u001b[38;5;250m \u001b[39m\u001b[38;5;21;01m.\u001b[39;00m\u001b[38;5;21;01m.\u001b[39;00m\u001b[38;5;21;01mfeature_extraction_utils\u001b[39;00m\u001b[38;5;250m \u001b[39m\u001b[38;5;28;01mimport\u001b[39;00m PreTrainedFeatureExtractor\n\u001b[1;32m---> 26\u001b[0m \u001b[38;5;28;01mfrom\u001b[39;00m\u001b[38;5;250m \u001b[39m\u001b[38;5;21;01m.\u001b[39;00m\u001b[38;5;21;01m.\u001b[39;00m\u001b[38;5;21;01mimage_processing_utils\u001b[39;00m\u001b[38;5;250m \u001b[39m\u001b[38;5;28;01mimport\u001b[39;00m BaseImageProcessor\n\u001b[0;32m     27\u001b[0m \u001b[38;5;28;01mfrom\u001b[39;00m\u001b[38;5;250m \u001b[39m\u001b[38;5;21;01m.\u001b[39;00m\u001b[38;5;21;01m.\u001b[39;00m\u001b[38;5;21;01mmodels\u001b[39;00m\u001b[38;5;21;01m.\u001b[39;00m\u001b[38;5;21;01mauto\u001b[39;00m\u001b[38;5;21;01m.\u001b[39;00m\u001b[38;5;21;01mconfiguration_auto\u001b[39;00m\u001b[38;5;250m \u001b[39m\u001b[38;5;28;01mimport\u001b[39;00m AutoConfig\n\u001b[0;32m     28\u001b[0m \u001b[38;5;28;01mfrom\u001b[39;00m\u001b[38;5;250m \u001b[39m\u001b[38;5;21;01m.\u001b[39;00m\u001b[38;5;21;01m.\u001b[39;00m\u001b[38;5;21;01mmodels\u001b[39;00m\u001b[38;5;21;01m.\u001b[39;00m\u001b[38;5;21;01mauto\u001b[39;00m\u001b[38;5;21;01m.\u001b[39;00m\u001b[38;5;21;01mfeature_extraction_auto\u001b[39;00m\u001b[38;5;250m \u001b[39m\u001b[38;5;28;01mimport\u001b[39;00m FEATURE_EXTRACTOR_MAPPING, AutoFeatureExtractor\n",
      "File \u001b[1;32mc:\\Documents\\All_github_repo\\PKB1\\4. Projects (Non-repeatable that build from 3.x)\\@Hydra-link (EMNLP2025 submission)\\lab\\venv\\lib\\site-packages\\transformers\\image_processing_utils.py:22\u001b[0m\n\u001b[0;32m     19\u001b[0m \u001b[38;5;28;01mimport\u001b[39;00m\u001b[38;5;250m \u001b[39m\u001b[38;5;21;01mnumpy\u001b[39;00m\u001b[38;5;250m \u001b[39m\u001b[38;5;28;01mas\u001b[39;00m\u001b[38;5;250m \u001b[39m\u001b[38;5;21;01mnp\u001b[39;00m\n\u001b[0;32m     21\u001b[0m \u001b[38;5;28;01mfrom\u001b[39;00m\u001b[38;5;250m \u001b[39m\u001b[38;5;21;01m.\u001b[39;00m\u001b[38;5;21;01mimage_processing_base\u001b[39;00m\u001b[38;5;250m \u001b[39m\u001b[38;5;28;01mimport\u001b[39;00m BatchFeature, ImageProcessingMixin\n\u001b[1;32m---> 22\u001b[0m \u001b[38;5;28;01mfrom\u001b[39;00m\u001b[38;5;250m \u001b[39m\u001b[38;5;21;01m.\u001b[39;00m\u001b[38;5;21;01mimage_transforms\u001b[39;00m\u001b[38;5;250m \u001b[39m\u001b[38;5;28;01mimport\u001b[39;00m center_crop, normalize, rescale\n\u001b[0;32m     23\u001b[0m \u001b[38;5;28;01mfrom\u001b[39;00m\u001b[38;5;250m \u001b[39m\u001b[38;5;21;01m.\u001b[39;00m\u001b[38;5;21;01mimage_utils\u001b[39;00m\u001b[38;5;250m \u001b[39m\u001b[38;5;28;01mimport\u001b[39;00m ChannelDimension, get_image_size\n\u001b[0;32m     24\u001b[0m \u001b[38;5;28;01mfrom\u001b[39;00m\u001b[38;5;250m \u001b[39m\u001b[38;5;21;01m.\u001b[39;00m\u001b[38;5;21;01mutils\u001b[39;00m\u001b[38;5;250m \u001b[39m\u001b[38;5;28;01mimport\u001b[39;00m logging\n",
      "File \u001b[1;32mc:\\Documents\\All_github_repo\\PKB1\\4. Projects (Non-repeatable that build from 3.x)\\@Hydra-link (EMNLP2025 submission)\\lab\\venv\\lib\\site-packages\\transformers\\image_transforms.py:22\u001b[0m\n\u001b[0;32m     18\u001b[0m \u001b[38;5;28;01mfrom\u001b[39;00m\u001b[38;5;250m \u001b[39m\u001b[38;5;21;01mtyping\u001b[39;00m\u001b[38;5;250m \u001b[39m\u001b[38;5;28;01mimport\u001b[39;00m Optional, Union\n\u001b[0;32m     20\u001b[0m \u001b[38;5;28;01mimport\u001b[39;00m\u001b[38;5;250m \u001b[39m\u001b[38;5;21;01mnumpy\u001b[39;00m\u001b[38;5;250m \u001b[39m\u001b[38;5;28;01mas\u001b[39;00m\u001b[38;5;250m \u001b[39m\u001b[38;5;21;01mnp\u001b[39;00m\n\u001b[1;32m---> 22\u001b[0m \u001b[38;5;28;01mfrom\u001b[39;00m\u001b[38;5;250m \u001b[39m\u001b[38;5;21;01m.\u001b[39;00m\u001b[38;5;21;01mimage_utils\u001b[39;00m\u001b[38;5;250m \u001b[39m\u001b[38;5;28;01mimport\u001b[39;00m (\n\u001b[0;32m     23\u001b[0m     ChannelDimension,\n\u001b[0;32m     24\u001b[0m     ImageInput,\n\u001b[0;32m     25\u001b[0m     get_channel_dimension_axis,\n\u001b[0;32m     26\u001b[0m     get_image_size,\n\u001b[0;32m     27\u001b[0m     infer_channel_dimension_format,\n\u001b[0;32m     28\u001b[0m )\n\u001b[0;32m     29\u001b[0m \u001b[38;5;28;01mfrom\u001b[39;00m\u001b[38;5;250m \u001b[39m\u001b[38;5;21;01m.\u001b[39;00m\u001b[38;5;21;01mutils\u001b[39;00m\u001b[38;5;250m \u001b[39m\u001b[38;5;28;01mimport\u001b[39;00m ExplicitEnum, TensorType, is_jax_tensor, is_tf_tensor, is_torch_tensor\n\u001b[0;32m     30\u001b[0m \u001b[38;5;28;01mfrom\u001b[39;00m\u001b[38;5;250m \u001b[39m\u001b[38;5;21;01m.\u001b[39;00m\u001b[38;5;21;01mutils\u001b[39;00m\u001b[38;5;21;01m.\u001b[39;00m\u001b[38;5;21;01mimport_utils\u001b[39;00m\u001b[38;5;250m \u001b[39m\u001b[38;5;28;01mimport\u001b[39;00m (\n\u001b[0;32m     31\u001b[0m     is_flax_available,\n\u001b[0;32m     32\u001b[0m     is_tf_available,\n\u001b[1;32m   (...)\u001b[0m\n\u001b[0;32m     35\u001b[0m     requires_backends,\n\u001b[0;32m     36\u001b[0m )\n",
      "File \u001b[1;32mc:\\Documents\\All_github_repo\\PKB1\\4. Projects (Non-repeatable that build from 3.x)\\@Hydra-link (EMNLP2025 submission)\\lab\\venv\\lib\\site-packages\\transformers\\image_utils.py:62\u001b[0m\n\u001b[0;32m     58\u001b[0m \u001b[38;5;28;01mif\u001b[39;00m is_torchvision_available():\n\u001b[0;32m     59\u001b[0m     \u001b[38;5;28;01mfrom\u001b[39;00m\u001b[38;5;250m \u001b[39m\u001b[38;5;21;01mtorchvision\u001b[39;00m\u001b[38;5;21;01m.\u001b[39;00m\u001b[38;5;21;01mtransforms\u001b[39;00m\u001b[38;5;250m \u001b[39m\u001b[38;5;28;01mimport\u001b[39;00m InterpolationMode\n\u001b[0;32m     61\u001b[0m     pil_torch_interpolation_mapping \u001b[38;5;241m=\u001b[39m {\n\u001b[1;32m---> 62\u001b[0m         PILImageResampling\u001b[38;5;241m.\u001b[39mNEAREST: \u001b[43mInterpolationMode\u001b[49m\u001b[38;5;241;43m.\u001b[39;49m\u001b[43mNEAREST_EXACT\u001b[49m,\n\u001b[0;32m     63\u001b[0m         PILImageResampling\u001b[38;5;241m.\u001b[39mBOX: InterpolationMode\u001b[38;5;241m.\u001b[39mBOX,\n\u001b[0;32m     64\u001b[0m         PILImageResampling\u001b[38;5;241m.\u001b[39mBILINEAR: InterpolationMode\u001b[38;5;241m.\u001b[39mBILINEAR,\n\u001b[0;32m     65\u001b[0m         PILImageResampling\u001b[38;5;241m.\u001b[39mHAMMING: InterpolationMode\u001b[38;5;241m.\u001b[39mHAMMING,\n\u001b[0;32m     66\u001b[0m         PILImageResampling\u001b[38;5;241m.\u001b[39mBICUBIC: InterpolationMode\u001b[38;5;241m.\u001b[39mBICUBIC,\n\u001b[0;32m     67\u001b[0m         PILImageResampling\u001b[38;5;241m.\u001b[39mLANCZOS: InterpolationMode\u001b[38;5;241m.\u001b[39mLANCZOS,\n\u001b[0;32m     68\u001b[0m     }\n\u001b[0;32m     69\u001b[0m \u001b[38;5;28;01melse\u001b[39;00m:\n\u001b[0;32m     70\u001b[0m     pil_torch_interpolation_mapping \u001b[38;5;241m=\u001b[39m {}\n",
      "File \u001b[1;32mC:\\Python310\\lib\\enum.py:429\u001b[0m, in \u001b[0;36mEnumMeta.__getattr__\u001b[1;34m(cls, name)\u001b[0m\n\u001b[0;32m    427\u001b[0m     \u001b[38;5;28;01mreturn\u001b[39;00m \u001b[38;5;28mcls\u001b[39m\u001b[38;5;241m.\u001b[39m_member_map_[name]\n\u001b[0;32m    428\u001b[0m \u001b[38;5;28;01mexcept\u001b[39;00m \u001b[38;5;167;01mKeyError\u001b[39;00m:\n\u001b[1;32m--> 429\u001b[0m     \u001b[38;5;28;01mraise\u001b[39;00m \u001b[38;5;167;01mAttributeError\u001b[39;00m(name) \u001b[38;5;28;01mfrom\u001b[39;00m\u001b[38;5;250m \u001b[39m\u001b[38;5;28;01mNone\u001b[39;00m\n",
      "\u001b[1;31mAttributeError\u001b[0m: NEAREST_EXACT"
     ]
    }
   ],
   "source": [
    "from transformers.pipelines import pipeline\n",
    "\n",
    "# Initialize the Hugging Face pipeline for Semantic Role Labeling (SRL)\n",
    "srl_pipeline = pipeline(\"zero-shot-classification\", model=\"facebook/bart-large-mnli\")\n",
    "\n",
    "# Function to perform SRL using zero-shot classification\n",
    "def perform_srl(tokens):\n",
    "    sentence = \" \".join(tokens)\n",
    "    srl_result = srl_pipeline(sentence, candidate_labels=[\"subject\", \"object\", \"predicate\"])\n",
    "    return srl_result\n",
    "\n",
    "# Perform SRL on the tokens\n",
    "srl_result = perform_srl(tokens)\n",
    "\n",
    "# Display SRL results\n",
    "srl_result\n"
   ]
  },
  {
   "cell_type": "code",
   "execution_count": 24,
   "id": "e1301354",
   "metadata": {},
   "outputs": [
    {
     "name": "stdout",
     "output_type": "stream",
     "text": [
      "Transformers version: 4.53.0\n",
      "Pillow version: 11.2.1\n"
     ]
    }
   ],
   "source": [
    "import transformers\n",
    "import PIL\n",
    "\n",
    "print(\"Transformers version:\", transformers.__version__)\n",
    "print(\"Pillow version:\", PIL.__version__)"
   ]
  },
  {
   "cell_type": "code",
   "execution_count": 17,
   "id": "fb8d0c72",
   "metadata": {},
   "outputs": [
    {
     "ename": "NameError",
     "evalue": "name 'srl_result' is not defined",
     "output_type": "error",
     "traceback": [
      "\u001b[1;31m---------------------------------------------------------------------------\u001b[0m",
      "\u001b[1;31mNameError\u001b[0m                                 Traceback (most recent call last)",
      "Cell \u001b[1;32mIn[17], line 13\u001b[0m\n\u001b[0;32m     10\u001b[0m     \u001b[38;5;28;01mreturn\u001b[39;00m tuples\n\u001b[0;32m     12\u001b[0m \u001b[38;5;66;03m# Generate tuples from SRL result\u001b[39;00m\n\u001b[1;32m---> 13\u001b[0m generated_tuples \u001b[38;5;241m=\u001b[39m generate_tuples(\u001b[43msrl_result\u001b[49m)\n\u001b[0;32m     15\u001b[0m \u001b[38;5;66;03m# Display generated tuples\u001b[39;00m\n\u001b[0;32m     16\u001b[0m generated_tuples\n",
      "\u001b[1;31mNameError\u001b[0m: name 'srl_result' is not defined"
     ]
    }
   ],
   "source": [
    "# Function to generate tuples from the SRL results\n",
    "def generate_tuples(srl_result):\n",
    "    tuples = []\n",
    "    \n",
    "    # Example of generating tuples based on the SRL result\n",
    "    for label, score in zip(srl_result['labels'], srl_result['scores']):\n",
    "        if score > 0.7:  # Threshold score to consider as a valid role\n",
    "            tuples.append({\"role\": label, \"filler\": srl_result['sequence'], \"score\": score})\n",
    "    \n",
    "    return tuples\n",
    "\n",
    "# Generate tuples from SRL result\n",
    "generated_tuples = generate_tuples(srl_result)\n",
    "\n",
    "# Display generated tuples\n",
    "generated_tuples\n"
   ]
  },
  {
   "cell_type": "code",
   "execution_count": 18,
   "id": "b6c1447b",
   "metadata": {},
   "outputs": [
    {
     "ename": "NameError",
     "evalue": "name 'generated_tuples' is not defined",
     "output_type": "error",
     "traceback": [
      "\u001b[1;31m---------------------------------------------------------------------------\u001b[0m",
      "\u001b[1;31mNameError\u001b[0m                                 Traceback (most recent call last)",
      "Cell \u001b[1;32mIn[18], line 17\u001b[0m\n\u001b[0;32m     14\u001b[0m     \u001b[38;5;28;01mreturn\u001b[39;00m G\n\u001b[0;32m     16\u001b[0m \u001b[38;5;66;03m# Build the graph from the generated tuples\u001b[39;00m\n\u001b[1;32m---> 17\u001b[0m graph \u001b[38;5;241m=\u001b[39m build_graph(\u001b[43mgenerated_tuples\u001b[49m)\n\u001b[0;32m     19\u001b[0m \u001b[38;5;66;03m# Plot the graph\u001b[39;00m\n\u001b[0;32m     20\u001b[0m \u001b[38;5;28;01mdef\u001b[39;00m\u001b[38;5;250m \u001b[39m\u001b[38;5;21mplot_graph\u001b[39m(G):\n",
      "\u001b[1;31mNameError\u001b[0m: name 'generated_tuples' is not defined"
     ]
    }
   ],
   "source": [
    "import networkx as nx\n",
    "import matplotlib.pyplot as plt\n",
    "\n",
    "# Function to build a graph from the generated tuples\n",
    "def build_graph(tuples):\n",
    "    G = nx.DiGraph()\n",
    "\n",
    "    # Add nodes and edges\n",
    "    for t in tuples:\n",
    "        G.add_node(t['role'], label=t['filler'])\n",
    "        if t['role'] != \"predicate\":  # If it's not a predicate, link to predicate\n",
    "            G.add_edge(\"predicate\", t['role'])\n",
    "    \n",
    "    return G\n",
    "\n",
    "# Build the graph from the generated tuples\n",
    "graph = build_graph(generated_tuples)\n",
    "\n",
    "# Plot the graph\n",
    "def plot_graph(G):\n",
    "    pos = nx.spring_layout(G)\n",
    "    plt.figure(figsize=(8, 6))\n",
    "    nx.draw(G, pos, with_labels=True, node_size=3000, node_color='lightblue', font_size=12, font_weight='bold', arrows=True)\n",
    "    plt.title(\"Semantic Role Labeling and Tuple Extraction\")\n",
    "    plt.show()\n",
    "\n",
    "# Plot the graph\n",
    "plot_graph(graph)\n"
   ]
  }
 ],
 "metadata": {
  "kernelspec": {
   "display_name": "venv",
   "language": "python",
   "name": "python3"
  },
  "language_info": {
   "codemirror_mode": {
    "name": "ipython",
    "version": 3
   },
   "file_extension": ".py",
   "mimetype": "text/x-python",
   "name": "python",
   "nbconvert_exporter": "python",
   "pygments_lexer": "ipython3",
   "version": "3.10.0"
  }
 },
 "nbformat": 4,
 "nbformat_minor": 5
}
